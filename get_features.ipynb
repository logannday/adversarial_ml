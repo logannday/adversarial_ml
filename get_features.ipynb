{
 "cells": [
  {
   "cell_type": "code",
   "execution_count": 1,
   "id": "f6ecac9e-0091-41e4-addf-b3670c9e8c0b",
   "metadata": {},
   "outputs": [],
   "source": [
    "import pandas as pd\n",
    "from pprint import pprint\n",
    "from sklearn.cluster import KMeans"
   ]
  },
  {
   "cell_type": "code",
   "execution_count": 6,
   "id": "66f8dcf6-3070-403a-8e50-65e001d79d86",
   "metadata": {
    "scrolled": true
   },
   "outputs": [
    {
     "name": "stdout",
     "output_type": "stream",
     "text": [
      "Index(['took', 'timed_out', '_shards', 'hits'], dtype='object')\n"
     ]
    }
   ],
   "source": [
    "df = pd.read_json(\"./data/netflow.json\")\n",
    "print(df.columns)\n",
    "\n",
    "hits = df['hits']['hits']\n",
    "# pprint(hits[:10])"
   ]
  },
  {
   "cell_type": "code",
   "execution_count": 11,
   "id": "ea734fe3-eb42-4f9f-92f7-0d92c61808bc",
   "metadata": {},
   "outputs": [
    {
     "name": "stdout",
     "output_type": "stream",
     "text": [
      "    bytes_toclient  bytes_toserver  pkts_toclient  pkts_toserver  age\n",
      "0              322             198              2              2    0\n",
      "1            22346            3652             43             38  240\n",
      "2              432             432              2              2   10\n",
      "3              288             180              2              2    0\n",
      "4            20612           11010             32             26    0\n",
      "5             1076             418              4              4  267\n",
      "6              308             176              2              2    0\n",
      "7              304             184              2              2    0\n",
      "8             8452            2792             18             24    0\n",
      "9              394             202              2              2    0\n",
      "10             404             228              2              2    0\n",
      "11          146096         1038118           2132            760   11\n",
      "12            7326            5618             22             28    0\n",
      "13            1588             476              2              2    0\n",
      "14             272             240              2              2    0\n",
      "15             132             120              2              2    0\n",
      "16           18798            6914             34             46    7\n",
      "17            1006            1284             10             12   60\n",
      "18             452             178              2              2    0\n",
      "19             358             184              2              2    1\n",
      "\n",
      "DataFrame shape: (10000, 5)\n",
      "\n",
      "Null values per column:\n",
      "bytes_toclient    0\n",
      "bytes_toserver    0\n",
      "pkts_toclient     0\n",
      "pkts_toserver     0\n",
      "age               0\n",
      "dtype: int64\n"
     ]
    }
   ],
   "source": [
    "rows = []\n",
    "for hit in hits:\n",
    "    flow = hit['_source']['suricata']['eve']['flow']\n",
    "    rows.append({\n",
    "        \"bytes_toclient\": flow['bytes_toclient'],\n",
    "        \"bytes_toserver\": flow['bytes_toserver'],\n",
    "        \"pkts_toclient\": flow['pkts_toclient'],\n",
    "        \"pkts_toserver\": flow['pkts_toserver'],\n",
    "        \"age\": flow['age']\n",
    "    })\n",
    "rawFlow = pd.DataFrame(rows)\n",
    "\n",
    "print(features.head(20))\n",
    "print(f\"\\nDataFrame shape: {features.shape}\")\n",
    "print(f\"\\nNull values per column:\\n{features.isnull().sum()}\")"
   ]
  },
  {
   "cell_type": "code",
   "execution_count": 12,
   "id": "ae789fe2-4574-4ba7-ad51-9e16c2b48b28",
   "metadata": {},
   "outputs": [
    {
     "name": "stderr",
     "output_type": "stream",
     "text": [
      "/Library/Frameworks/Python.framework/Versions/3.10/lib/python3.10/site-packages/sklearn/cluster/_kmeans.py:1416: FutureWarning: The default value of `n_init` will change from 10 to 'auto' in 1.4. Set the value of `n_init` explicitly to suppress the warning\n",
      "  super()._check_params_vs_input(X, default_n_init=10)\n"
     ]
    },
    {
     "data": {
      "text/plain": [
       "array([0, 0, 0, ..., 0, 0, 0], dtype=int32)"
      ]
     },
     "execution_count": 12,
     "metadata": {},
     "output_type": "execute_result"
    }
   ],
   "source": [
    "kmeans = KMeans(n_clusters = 25).fit(rawFlow)\n",
    "kmeans.labels_"
   ]
  },
  {
   "cell_type": "code",
   "execution_count": 10,
   "id": "92cbd065-8551-4903-bd59-abbdba7b5472",
   "metadata": {},
   "outputs": [],
   "source": [
    "from sklearn.ensemble import IsolationForest"
   ]
  },
  {
   "cell_type": "code",
   "execution_count": null,
   "id": "b57d10f6-6f78-4405-9615-7fe267f4a7cc",
   "metadata": {},
   "outputs": [],
   "source": [
    "clf = IsolationForest(random_state=0).fit(X)\n"
   ]
  }
 ],
 "metadata": {
  "kernelspec": {
   "display_name": "venv",
   "language": "python",
   "name": "venv"
  },
  "language_info": {
   "codemirror_mode": {
    "name": "ipython",
    "version": 3
   },
   "file_extension": ".py",
   "mimetype": "text/x-python",
   "name": "python",
   "nbconvert_exporter": "python",
   "pygments_lexer": "ipython3",
   "version": "3.10.11"
  }
 },
 "nbformat": 4,
 "nbformat_minor": 5
}
